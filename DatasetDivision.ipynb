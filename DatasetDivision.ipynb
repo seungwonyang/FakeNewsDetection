{
 "cells": [
  {
   "cell_type": "markdown",
   "metadata": {},
   "source": [
    "#### This file divides the entire 992 events into train events, test and val events in 80%, 15% and 5% proportion. Further, it saves each of these divided events in the folder TrainTestValCreation such that each event looks like (eid, label). "
   ]
  },
  {
   "cell_type": "code",
   "execution_count": 1,
   "metadata": {},
   "outputs": [],
   "source": [
    "import pandas as pd\n",
    "import pymongo\n",
    "import numpy as np"
   ]
  },
  {
   "cell_type": "code",
   "execution_count": 2,
   "metadata": {},
   "outputs": [],
   "source": [
    "client = pymongo.MongoClient('localhost', 27017)\n",
    "db = client.csi"
   ]
  },
  {
   "cell_type": "code",
   "execution_count": 12,
   "metadata": {},
   "outputs": [],
   "source": [
    "fakeevents = db.finalDataset.find({\"label\": \"1\"}, {\"eventIndex\": 1}) # get all eventIndex with fake events (label 1)\n",
    "# add a tuple (eventIndex, label) in the list fakeEvents\n",
    "fakeEvents = [(int(item['eventIndex']), 1) for item in fakeevents]\n",
    "np.random.shuffle(fakeEvents)\n",
    "\n",
    "realevents = db.finalDataset.find({\"label\": \"0\"}, {\"eventIndex\": 1}) # get all eventIndex with real events(label 0)\n",
    "realEvents = [(int(item['eventIndex']), 0) for item in realevents]\n",
    "np.random.shuffle(realEvents)"
   ]
  },
  {
   "cell_type": "code",
   "execution_count": 13,
   "metadata": {},
   "outputs": [
    {
     "name": "stdout",
     "output_type": "stream",
     "text": [
      "Number of Fake events:498\n",
      "Number of Real events:494\n"
     ]
    }
   ],
   "source": [
    "print (\"Number of Fake events:{}\".format(len(fakeEvents)))\n",
    "print (\"Number of Real events:{}\".format(len(realEvents)))"
   ]
  },
  {
   "cell_type": "code",
   "execution_count": 22,
   "metadata": {},
   "outputs": [
    {
     "name": "stdout",
     "output_type": "stream",
     "text": [
      "Number of train events:793 \n",
      "Number of test events: 148 \n",
      "Number of val events:51 \n",
      "\n"
     ]
    }
   ],
   "source": [
    "numrealTrain = int (0.8*len(realEvents)) # get 80 % of realevents\n",
    "numfakeTrain = int (0.8*len(fakeEvents)) # get 80 % of fake events\n",
    "trainrealEvents = realEvents[:numrealTrain] \n",
    "trainfakeEvents = fakeEvents[:numfakeTrain]\n",
    "trainEvents = trainrealEvents+trainfakeEvents\n",
    "np.random.shuffle(trainEvents)\n",
    "\n",
    "numrealTest = int(0.15*len(realEvents))\n",
    "numfakeTest =int(0.15*len(fakeEvents))\n",
    "testrealEvents = realEvents[numrealTrain:numrealTest+numrealTrain]\n",
    "testfakeEvents = fakeEvents[numfakeTrain:numfakeTest+numfakeTrain]\n",
    "testEvents = testrealEvents+testfakeEvents\n",
    "np.random.shuffle(testEvents)\n",
    "\n",
    "valrealEvents = realEvents[numrealTest+numrealTrain:]\n",
    "valfakeEvents = fakeEvents[numfakeTest+numfakeTrain:]\n",
    "valEvents = valrealEvents+valfakeEvents\n",
    "np.random.shuffle(valEvents)\n",
    "\n",
    "print ('Number of train events:{} \\nNumber of test events: {} \\nNumber of val events:{} \\n'\n",
    "       .format(len(trainEvents), len(testEvents), len(valEvents)))"
   ]
  },
  {
   "cell_type": "code",
   "execution_count": 24,
   "metadata": {},
   "outputs": [
    {
     "name": "stdout",
     "output_type": "stream",
     "text": [
      "sample of train events:(305, 1)\n"
     ]
    }
   ],
   "source": [
    "print ('sample of train events:{}'. format(trainEvents[0]))"
   ]
  },
  {
   "cell_type": "code",
   "execution_count": 1,
   "metadata": {},
   "outputs": [
    {
     "ename": "NameError",
     "evalue": "name 'np' is not defined",
     "output_type": "error",
     "traceback": [
      "\u001b[0;31m---------------------------------------------------------------------------\u001b[0m",
      "\u001b[0;31mNameError\u001b[0m                                 Traceback (most recent call last)",
      "\u001b[0;32m<ipython-input-1-a714d384c140>\u001b[0m in \u001b[0;36m<module>\u001b[0;34m()\u001b[0m\n\u001b[0;32m----> 1\u001b[0;31m \u001b[0mnp\u001b[0m\u001b[0;34m.\u001b[0m\u001b[0msave\u001b[0m\u001b[0;34m(\u001b[0m\u001b[0;34m'./DataSplit/trainEvents'\u001b[0m\u001b[0;34m,\u001b[0m \u001b[0mtrainEvents\u001b[0m\u001b[0;34m)\u001b[0m\u001b[0;34m\u001b[0m\u001b[0m\n\u001b[0m\u001b[1;32m      2\u001b[0m \u001b[0mnp\u001b[0m\u001b[0;34m.\u001b[0m\u001b[0msave\u001b[0m\u001b[0;34m(\u001b[0m\u001b[0;34m'./DataSplit/testEvents'\u001b[0m\u001b[0;34m,\u001b[0m \u001b[0mtestEvents\u001b[0m\u001b[0;34m)\u001b[0m\u001b[0;34m\u001b[0m\u001b[0m\n\u001b[1;32m      3\u001b[0m \u001b[0mnp\u001b[0m\u001b[0;34m.\u001b[0m\u001b[0msave\u001b[0m\u001b[0;34m(\u001b[0m\u001b[0;34m'./DataSplit/valEvents'\u001b[0m\u001b[0;34m,\u001b[0m \u001b[0mvalEvents\u001b[0m\u001b[0;34m)\u001b[0m\u001b[0;34m\u001b[0m\u001b[0m\n",
      "\u001b[0;31mNameError\u001b[0m: name 'np' is not defined"
     ]
    }
   ],
   "source": [
    "np.save('./TrainTestValCreation/trainEvents', trainEvents)\n",
    "np.save('./TrainTestValCreation/testEvents', testEvents)\n",
    "np.save('./TrainTestValCreation/valEvents', valEvents)"
   ]
  },
  {
   "cell_type": "code",
   "execution_count": null,
   "metadata": {},
   "outputs": [],
   "source": []
  }
 ],
 "metadata": {
  "kernelspec": {
   "display_name": "Python 3",
   "language": "python",
   "name": "python3"
  },
  "language_info": {
   "codemirror_mode": {
    "name": "ipython",
    "version": 3
   },
   "file_extension": ".py",
   "mimetype": "text/x-python",
   "name": "python",
   "nbconvert_exporter": "python",
   "pygments_lexer": "ipython3",
   "version": "3.5.2"
  }
 },
 "nbformat": 4,
 "nbformat_minor": 2
}
